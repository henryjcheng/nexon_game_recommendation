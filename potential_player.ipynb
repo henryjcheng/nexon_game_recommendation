{
 "cells": [
  {
   "cell_type": "markdown",
   "metadata": {},
   "source": [
    "# Potential Player\n",
    "## Objective\n",
    "Identify users not playing any Nexon game, but have high likelihood of playing one of Nexon's game\n",
    "\n",
    "## Methodology\n",
    "We will try to identify players sharing similar profile as Nexon players, such as purchasing and gaming behavior. Depending on how distinct the player profile is for each Nexon game, we may need to build 3 separate models for each game.  \n",
    "  \n",
    "The assumption here is that if, for example, most MapleStory players only spend about 30 hours playing a week, it could mean that the nature of the game or the gaming community is suitable for people who can devote 30 hours a week playing game. Thus, people who do not spend around the same time are likely not suitable for MapleStory and therefore have less likelihood of playing MapleStory.  \n",
    "  \n",
    "Here we will create user profile (features) and build K-nearest Neighbor classification model to see the likelihood of players for playing each Nexon game (MapltStory, Mabinogi, and Vindictus). Our target here are players who are clustered together as Nexon players.\n",
    "\n",
    "## Steps\n",
    "1. Label games with relevant genre to slim down number of available features\n",
    "2. feature genaration such as purchase genre Y, play time for genre X, % time playing genre X, # of games played, ...etc.\n",
    "3. model building\n",
    "\n",
    "## Brainstorm/Notes\n",
    "1. look into people who play low-res games (games with earlier published days) as they may have hardware limtations\n",
    "2. look into people who play exclusively MMORPG\n",
    "\n",
    "## Obsticles\n",
    "1. There's no timestamp for time information. \n",
    "    * Unable to distinguish between players who play lots of hours in short period of time vs one who plays moderate amount but over a long horizon.\n",
    "    * Unable to tell if certain game was played recently and if a player has moved onto to a different genre of games"
   ]
  },
  {
   "cell_type": "code",
   "execution_count": 1,
   "metadata": {},
   "outputs": [],
   "source": [
    "import numpy as np\n",
    "import pandas as pd\n",
    "import utility\n",
    "\n",
    "from matplotlib import pyplot as plt\n",
    "import seaborn as sns"
   ]
  },
  {
   "cell_type": "code",
   "execution_count": 2,
   "metadata": {},
   "outputs": [
    {
     "data": {
      "text/html": [
       "<div>\n",
       "<style scoped>\n",
       "    .dataframe tbody tr th:only-of-type {\n",
       "        vertical-align: middle;\n",
       "    }\n",
       "\n",
       "    .dataframe tbody tr th {\n",
       "        vertical-align: top;\n",
       "    }\n",
       "\n",
       "    .dataframe thead th {\n",
       "        text-align: right;\n",
       "    }\n",
       "</style>\n",
       "<table border=\"1\" class=\"dataframe\">\n",
       "  <thead>\n",
       "    <tr style=\"text-align: right;\">\n",
       "      <th></th>\n",
       "      <th>id</th>\n",
       "      <th>game</th>\n",
       "      <th>action</th>\n",
       "      <th>value</th>\n",
       "    </tr>\n",
       "  </thead>\n",
       "  <tbody>\n",
       "    <tr>\n",
       "      <th>0</th>\n",
       "      <td>151603712</td>\n",
       "      <td>The Elder Scrolls V Skyrim</td>\n",
       "      <td>purchase</td>\n",
       "      <td>1.0</td>\n",
       "    </tr>\n",
       "    <tr>\n",
       "      <th>1</th>\n",
       "      <td>151603712</td>\n",
       "      <td>The Elder Scrolls V Skyrim</td>\n",
       "      <td>play</td>\n",
       "      <td>273.0</td>\n",
       "    </tr>\n",
       "    <tr>\n",
       "      <th>2</th>\n",
       "      <td>151603712</td>\n",
       "      <td>Fallout 4</td>\n",
       "      <td>purchase</td>\n",
       "      <td>1.0</td>\n",
       "    </tr>\n",
       "  </tbody>\n",
       "</table>\n",
       "</div>"
      ],
      "text/plain": [
       "          id                        game    action  value\n",
       "0  151603712  The Elder Scrolls V Skyrim  purchase    1.0\n",
       "1  151603712  The Elder Scrolls V Skyrim      play  273.0\n",
       "2  151603712                   Fallout 4  purchase    1.0"
      ]
     },
     "execution_count": 2,
     "metadata": {},
     "output_type": "execute_result"
    }
   ],
   "source": [
    "# read data\n",
    "df = pd.read_csv('data/steam-200k.csv', header=None)\\\n",
    "       .rename(columns={0:'id', 1:'game', 2:'action', 3:'value'})\\\n",
    "       .astype({'id':str})\\\n",
    "       .iloc[:, :4] # drop last column\n",
    "df = df.drop_duplicates()\n",
    "df.head(3)"
   ]
  },
  {
   "cell_type": "markdown",
   "metadata": {},
   "source": [
    "## EDA\n",
    "We will perform analysis on players who played Nexon game (MapleStory, Mabinogi, Vindictus) vs those who have nevery played Nexon game  \n",
    "  \n",
    "__Note:__ when we flag Nexon player, we only flags players who have \"play\" action. Users with only \"purchase\" action and no play action is not considered Nexon player."
   ]
  },
  {
   "cell_type": "code",
   "execution_count": 3,
   "metadata": {},
   "outputs": [],
   "source": [
    "# flag players who has played Nexon game\n",
    "df = utility.flag_nexon_player(df)"
   ]
  },
  {
   "cell_type": "code",
   "execution_count": 4,
   "metadata": {},
   "outputs": [
    {
     "name": "stdout",
     "output_type": "stream",
     "text": [
      "Number of records:          5824\n",
      "Number of unique User ID:   45\n",
      "Number of games:            1560\n",
      "\n",
      "\tAction Count: \n",
      "purchase    3801\n",
      "play        2023\n",
      "Name: action, dtype: int64\n",
      "\n",
      "Number of Purchasing Player: 45\n",
      "% of Purchasing Player: 100.0%\n",
      "\n",
      "\tSummary Statistics on Play Time:\n",
      "count    2023.000000\n",
      "mean       23.405685\n",
      "std        91.997070\n",
      "min         0.100000\n",
      "25%         0.900000\n",
      "50%         3.800000\n",
      "75%        13.300000\n",
      "max      2563.000000\n",
      "Name: value, dtype: float64\n",
      "\n",
      "\tSummary Statistics on Number of Games Played:\n",
      "count    2023.000000\n",
      "mean       82.405833\n",
      "std        49.377679\n",
      "min         1.000000\n",
      "25%        38.000000\n",
      "50%        83.000000\n",
      "75%       109.000000\n",
      "max       169.000000\n",
      "Name: game_freq, dtype: float64\n",
      "\n",
      "\tSummary Statistics on Number of Games Purchase:\n",
      "count    3801.000000\n",
      "mean      240.102341\n",
      "std       222.800806\n",
      "min         3.000000\n",
      "25%        78.000000\n",
      "50%       139.000000\n",
      "75%       413.000000\n",
      "max       666.000000\n",
      "Name: purch_freq, dtype: float64\n",
      "\n",
      "\tTop 10 Games Purchased\n",
      "Team Fortress 2                    32\n",
      "Counter-Strike Global Offensive    29\n",
      "Vindictus                          28\n",
      "Dota 2                             25\n",
      "Left 4 Dead 2                      25\n",
      "Unturned                           24\n",
      "MapleStory                         23\n",
      "Garry's Mod                        22\n",
      "Warframe                           21\n",
      "Terraria                           21\n",
      "Name: game, dtype: int64\n"
     ]
    }
   ],
   "source": [
    "# here we run the same general EDA on Nexon player\n",
    "# actual EDA code are in utility.py, calling function here for readability\n",
    "df_nexon = df[df['flg_NX'] == 1].reset_index(drop=True)\n",
    "utility.eda_general(df_nexon)"
   ]
  },
  {
   "cell_type": "code",
   "execution_count": 5,
   "metadata": {},
   "outputs": [
    {
     "name": "stdout",
     "output_type": "stream",
     "text": [
      "Number of records:          193469\n",
      "Number of unique User ID:   12348\n",
      "Number of games:            5116\n",
      "\n",
      "\tAction Count: \n",
      "purchase    125003\n",
      "play         68466\n",
      "Name: action, dtype: int64\n",
      "\n",
      "Number of Purchasing Player: 11305\n",
      "% of Purchasing Player: 92.0%\n",
      "\n",
      "\tSummary Statistics on Play Time:\n",
      "count    68466.000000\n",
      "mean        49.630709\n",
      "std        232.118551\n",
      "min          0.100000\n",
      "25%          1.000000\n",
      "50%          4.500000\n",
      "75%         19.300000\n",
      "max      11754.000000\n",
      "Name: value, dtype: float64\n",
      "\n",
      "\tSummary Statistics on Number of Games Played:\n",
      "count    68454.000000\n",
      "mean        56.220761\n",
      "std         74.122473\n",
      "min          1.000000\n",
      "25%          8.000000\n",
      "50%         29.000000\n",
      "75%         76.000000\n",
      "max        498.000000\n",
      "Name: game_freq, dtype: float64\n",
      "\n",
      "\tSummary Statistics on Number of Games Purchase:\n",
      "count    125003.000000\n",
      "mean        129.299897\n",
      "std         179.676564\n",
      "min           1.000000\n",
      "25%          15.000000\n",
      "50%          59.000000\n",
      "75%         163.000000\n",
      "max        1068.000000\n",
      "Name: purch_freq, dtype: float64\n",
      "\n",
      "\tTop 10 Games Purchased\n",
      "Dota 2                             4816\n",
      "Team Fortress 2                    2291\n",
      "Unturned                           1539\n",
      "Counter-Strike Global Offensive    1383\n",
      "Half-Life 2 Lost Coast              968\n",
      "Counter-Strike Source               964\n",
      "Left 4 Dead 2                       926\n",
      "Counter-Strike                      847\n",
      "Warframe                            826\n",
      "Half-Life 2 Deathmatch              814\n",
      "Name: game, dtype: int64\n"
     ]
    }
   ],
   "source": [
    "# general EDA on non-Nexon player\n",
    "df_non_NX = df[df['flg_NX'] != 1]\n",
    "utility.eda_general(df_non_NX)"
   ]
  },
  {
   "cell_type": "markdown",
   "metadata": {},
   "source": [
    "### EDA Summary\n",
    "Some rudimentary analysis comparing summary statitics between Nexon players and non-Nexon players shows that Nexon players on average have played more games, purchased more games, but spend less time playing games.  \n",
    "The game purchased profile is also quite different with Nexon players having more presence of Sandbox type of games. Although one can certainly argue that those games are popular such that everyone, including Nexon players, plays them.\n",
    "  \n",
    "We will try to visualize the relationship using boxplot  "
   ]
  },
  {
   "cell_type": "code",
   "execution_count": 6,
   "metadata": {},
   "outputs": [
    {
     "data": {
      "text/html": [
       "<div>\n",
       "<style scoped>\n",
       "    .dataframe tbody tr th:only-of-type {\n",
       "        vertical-align: middle;\n",
       "    }\n",
       "\n",
       "    .dataframe tbody tr th {\n",
       "        vertical-align: top;\n",
       "    }\n",
       "\n",
       "    .dataframe thead th {\n",
       "        text-align: right;\n",
       "    }\n",
       "</style>\n",
       "<table border=\"1\" class=\"dataframe\">\n",
       "  <thead>\n",
       "    <tr style=\"text-align: right;\">\n",
       "      <th></th>\n",
       "      <th>id</th>\n",
       "      <th>game</th>\n",
       "      <th>action</th>\n",
       "      <th>value</th>\n",
       "      <th>flg_MS</th>\n",
       "      <th>flg_MA</th>\n",
       "      <th>flg_VN</th>\n",
       "      <th>flg_NX</th>\n",
       "      <th>player_type</th>\n",
       "    </tr>\n",
       "  </thead>\n",
       "  <tbody>\n",
       "    <tr>\n",
       "      <th>0</th>\n",
       "      <td>151603712</td>\n",
       "      <td>The Elder Scrolls V Skyrim</td>\n",
       "      <td>purchase</td>\n",
       "      <td>1.0</td>\n",
       "      <td>0.0</td>\n",
       "      <td>0.0</td>\n",
       "      <td>0.0</td>\n",
       "      <td>0.0</td>\n",
       "      <td>non_Nexon</td>\n",
       "    </tr>\n",
       "    <tr>\n",
       "      <th>1</th>\n",
       "      <td>151603712</td>\n",
       "      <td>The Elder Scrolls V Skyrim</td>\n",
       "      <td>play</td>\n",
       "      <td>273.0</td>\n",
       "      <td>0.0</td>\n",
       "      <td>0.0</td>\n",
       "      <td>0.0</td>\n",
       "      <td>0.0</td>\n",
       "      <td>non_Nexon</td>\n",
       "    </tr>\n",
       "    <tr>\n",
       "      <th>2</th>\n",
       "      <td>151603712</td>\n",
       "      <td>Fallout 4</td>\n",
       "      <td>purchase</td>\n",
       "      <td>1.0</td>\n",
       "      <td>0.0</td>\n",
       "      <td>0.0</td>\n",
       "      <td>0.0</td>\n",
       "      <td>0.0</td>\n",
       "      <td>non_Nexon</td>\n",
       "    </tr>\n",
       "    <tr>\n",
       "      <th>3</th>\n",
       "      <td>151603712</td>\n",
       "      <td>Fallout 4</td>\n",
       "      <td>play</td>\n",
       "      <td>87.0</td>\n",
       "      <td>0.0</td>\n",
       "      <td>0.0</td>\n",
       "      <td>0.0</td>\n",
       "      <td>0.0</td>\n",
       "      <td>non_Nexon</td>\n",
       "    </tr>\n",
       "    <tr>\n",
       "      <th>4</th>\n",
       "      <td>151603712</td>\n",
       "      <td>Spore</td>\n",
       "      <td>purchase</td>\n",
       "      <td>1.0</td>\n",
       "      <td>0.0</td>\n",
       "      <td>0.0</td>\n",
       "      <td>0.0</td>\n",
       "      <td>0.0</td>\n",
       "      <td>non_Nexon</td>\n",
       "    </tr>\n",
       "  </tbody>\n",
       "</table>\n",
       "</div>"
      ],
      "text/plain": [
       "          id                        game    action  value  flg_MS  flg_MA  \\\n",
       "0  151603712  The Elder Scrolls V Skyrim  purchase    1.0     0.0     0.0   \n",
       "1  151603712  The Elder Scrolls V Skyrim      play  273.0     0.0     0.0   \n",
       "2  151603712                   Fallout 4  purchase    1.0     0.0     0.0   \n",
       "3  151603712                   Fallout 4      play   87.0     0.0     0.0   \n",
       "4  151603712                       Spore  purchase    1.0     0.0     0.0   \n",
       "\n",
       "   flg_VN  flg_NX player_type  \n",
       "0     0.0     0.0   non_Nexon  \n",
       "1     0.0     0.0   non_Nexon  \n",
       "2     0.0     0.0   non_Nexon  \n",
       "3     0.0     0.0   non_Nexon  \n",
       "4     0.0     0.0   non_Nexon  "
      ]
     },
     "execution_count": 6,
     "metadata": {},
     "output_type": "execute_result"
    }
   ],
   "source": [
    "df.head()"
   ]
  },
  {
   "cell_type": "code",
   "execution_count": 207,
   "metadata": {},
   "outputs": [
    {
     "data": {
      "image/png": "[encoded data removed]",
      "text/plain": [
       "<Figure size 720x576 with 1 Axes>"
      ]
     },
     "metadata": {},
     "output_type": "display_data"
    }
   ],
   "source": [
    "# remove records with play time > 3rd quartile of non_Nexon players, or 19.3\n",
    "# for better visualization, otherwise the scale makes visualization hard to interpret\n",
    "df_play = df[(df['action'] == 'play') & (df['value'] < 19.3)]\n",
    "\n",
    "plt.figure(figsize=(10, 8))\n",
    "sns.set_style('whitegrid')\n",
    "ax = sns.boxplot(y='value', x='player_type', data=df_play)\n",
    "ax.set_xlabel('', fontsize=15)\n",
    "ax.set_ylabel('Play Time', fontsize=15)\n",
    "plt.show()"
   ]
  },
  {
   "cell_type": "markdown",
   "metadata": {},
   "source": [
    "### Interpretation\n",
    "From here we can see that Vindictus and Mabinogi players tend to spend more time playing than non_Nexon players, howevery, the variance in time played is less. The distribution for MapleStory is fairly to the non_Nexon players, while players who have played more than 1 Nexon games tends to spend less time playing than non_Nexon players.  \n",
    "  \n",
    "The take away here is that _play time_ may be good indicatory for Vindictus, Mabinogi, and players who play more than 1 Nexon games, but not as effective for MapleStory players."
   ]
  },
  {
   "cell_type": "markdown",
   "metadata": {},
   "source": [
    "# K-Nearest Neighbor\n",
    "Here we will implement K-near Neighbor algorithm, which uses Enclidean distances of features and does a plurality vote for the class of an object. The object is assigned the class most common among its k nearest neighbors.  \n",
    "  \n",
    "KNN works best with continuous features (it's hard to determine distances between categorical variables). We will generate featrues to fulfill this criteria. Specifically, we will categorize games into different genre and work off of genre instead of game title.  \n",
    "  \n",
    "To save time, we'll limit the scope to 5 genres and randomly assign them to games."
   ]
  },
  {
   "cell_type": "markdown",
   "metadata": {},
   "source": [
    "## Feature Generation"
   ]
  },
  {
   "cell_type": "code",
   "execution_count": 8,
   "metadata": {},
   "outputs": [
    {
     "name": "stdout",
     "output_type": "stream",
     "text": [
      "Number of unique games: 5155\n"
     ]
    }
   ],
   "source": [
    "# get list of games\n",
    "n_game = df['game'].nunique()\n",
    "print(f'Number of unique games: {n_game}')"
   ]
  },
  {
   "cell_type": "code",
   "execution_count": 9,
   "metadata": {},
   "outputs": [],
   "source": [
    "# add genre to master dataframe\n",
    "df = utility.add_genre(df)"
   ]
  },
  {
   "cell_type": "markdown",
   "metadata": {},
   "source": [
    "Now that we have genre, we can start working on creating features. We'll start with the following:\n",
    "* play time by genre\n",
    "* number of purchase by genre\n",
    "* % of time played by genre\n",
    "* % of purchase by genre"
   ]
  },
  {
   "cell_type": "code",
   "execution_count": 11,
   "metadata": {},
   "outputs": [],
   "source": [
    "df_knn = df[['id', 'player_type', 'genre', 'action', 'value']].reset_index(drop=True)"
   ]
  },
  {
   "cell_type": "code",
   "execution_count": 13,
   "metadata": {},
   "outputs": [
    {
     "name": "stdout",
     "output_type": "stream",
     "text": [
      "CPU times: user 8.06 s, sys: 108 ms, total: 8.17 s\n",
      "Wall time: 8.2 s\n"
     ]
    }
   ],
   "source": [
    "%%time\n",
    "df_features = utility.feature_generation(df_knn)"
   ]
  },
  {
   "cell_type": "markdown",
   "metadata": {},
   "source": [
    "## KNN Model"
   ]
  },
  {
   "cell_type": "code",
   "execution_count": 71,
   "metadata": {},
   "outputs": [],
   "source": [
    "from sklearn.model_selection import train_test_split\n",
    "from sklearn import neighbors\n",
    "from sklearn.preprocessing import scale\n",
    "from sklearn.metrics import classification_report"
   ]
  },
  {
   "cell_type": "code",
   "execution_count": 104,
   "metadata": {},
   "outputs": [
    {
     "name": "stdout",
     "output_type": "stream",
     "text": [
      "0.0    11305\n",
      "1.0       45\n",
      "Name: label, dtype: int64\n"
     ]
    }
   ],
   "source": [
    "# convert pandas dataframe to numpy for sklearn training spec\n",
    "df_label = df[['id', 'flg_NX']].drop_duplicates()\\\n",
    "                               .reset_index(drop=True)\\\n",
    "                               .rename(columns={'flg_NX':'label'})\n",
    "df_final = df_features.merge(df_label, on='id', how='inner')\n",
    "\n",
    "print(df_final['label'].value_counts())"
   ]
  },
  {
   "cell_type": "code",
   "execution_count": 164,
   "metadata": {},
   "outputs": [],
   "source": [
    "# here we see class imbalance, we will down sample this time to 500 samples\n",
    "seed = 316\n",
    "df_positive = df_final[df_final['label'] == 1]\n",
    "df_negative = df_final[df_final['label'] == 0].sample(frac=.05, random_state=seed)\n",
    "\n",
    "df_final_ds = pd.concat([df_negative, df_positive])"
   ]
  },
  {
   "cell_type": "code",
   "execution_count": 165,
   "metadata": {},
   "outputs": [
    {
     "data": {
      "text/plain": [
       "(610, 22)"
      ]
     },
     "execution_count": 165,
     "metadata": {},
     "output_type": "execute_result"
    }
   ],
   "source": [
    "df_final_ds.shape"
   ]
  },
  {
   "cell_type": "code",
   "execution_count": 116,
   "metadata": {},
   "outputs": [],
   "source": [
    "y = df_final_ds.pop('label')\\\n",
    "            .astype(int)\\\n",
    "            .to_numpy()\n",
    "x = df_final_ds.drop('id', axis=1)\\\n",
    "            .to_numpy()"
   ]
  },
  {
   "cell_type": "code",
   "execution_count": 117,
   "metadata": {},
   "outputs": [],
   "source": [
    "# KNN uses euclidean distances so need to scale all features so they use the same unit\n",
    "x = scale(x)"
   ]
  },
  {
   "cell_type": "code",
   "execution_count": 118,
   "metadata": {},
   "outputs": [],
   "source": [
    "x_train, x_test, y_train, y_test = train_test_split(x, y, test_size=0.2, random_state=316)"
   ]
  },
  {
   "cell_type": "code",
   "execution_count": 119,
   "metadata": {},
   "outputs": [
    {
     "name": "stdout",
     "output_type": "stream",
     "text": [
      "Training size: 488\n",
      "Testing size: 122\n"
     ]
    }
   ],
   "source": [
    "print(f'Training size: {x_train.shape[0]}')\n",
    "print(f'Testing size: {x_test.shape[0]}')"
   ]
  },
  {
   "cell_type": "code",
   "execution_count": 158,
   "metadata": {},
   "outputs": [
    {
     "data": {
      "text/plain": [
       "KNeighborsClassifier(algorithm='auto', leaf_size=30, metric='minkowski',\n",
       "                     metric_params=None, n_jobs=None, n_neighbors=1, p=2,\n",
       "                     weights='uniform')"
      ]
     },
     "execution_count": 158,
     "metadata": {},
     "output_type": "execute_result"
    }
   ],
   "source": [
    "k = 1\n",
    "knn = neighbors.KNeighborsClassifier(n_neighbors=k)\n",
    "knn.fit(x_train, y_train)    "
   ]
  },
  {
   "cell_type": "code",
   "execution_count": 159,
   "metadata": {},
   "outputs": [
    {
     "name": "stdout",
     "output_type": "stream",
     "text": [
      "              precision    recall  f1-score   support\n",
      "\n",
      "           0       0.96      0.97      0.96       113\n",
      "           1       0.57      0.44      0.50         9\n",
      "\n",
      "    accuracy                           0.93       122\n",
      "   macro avg       0.76      0.71      0.73       122\n",
      "weighted avg       0.93      0.93      0.93       122\n",
      "\n"
     ]
    }
   ],
   "source": [
    "y_true, y_pred = y_test, knn.predict(x_test)\n",
    "print(classification_report(y_true, y_pred))"
   ]
  },
  {
   "cell_type": "markdown",
   "metadata": {},
   "source": [
    "Here we want to optimize recall to capture all the players that may be interested in playing Nexon game. We found the best metrics to be at k = 1, where precision/recall for positive case is 57% and 44% respectively."
   ]
  },
  {
   "cell_type": "code",
   "execution_count": 213,
   "metadata": {},
   "outputs": [
    {
     "data": {
      "image/png": "[encoded data removed]",
      "text/plain": [
       "<Figure size 720x576 with 1 Axes>"
      ]
     },
     "metadata": {},
     "output_type": "display_data"
    }
   ],
   "source": [
    "plt.figure(figsize=(10, 8))\n",
    "sns.set_style('whitegrid')\n",
    "ax = sns.scatterplot(y='ppt_mmo', x='pt_mmo', hue='label', data=df_final_ds, s=70)\n",
    "ax.set_xlabel('MMORPG Play Time', fontsize=20)\n",
    "ax.set_ylabel('% time playing MMORPG', fontsize=20)\n",
    "plt.legend(title='player type', labels=['non-Nexon', 'Nexon'], fontsize=15)\n",
    "plt.show()"
   ]
  },
  {
   "cell_type": "code",
   "execution_count": 214,
   "metadata": {},
   "outputs": [
    {
     "data": {
      "image/png": "[encoded data removed]",
      "text/plain": [
       "<Figure size 720x576 with 1 Axes>"
      ]
     },
     "metadata": {},
     "output_type": "display_data"
    }
   ],
   "source": [
    "plt.figure(figsize=(10, 8))\n",
    "sns.set_style('whitegrid')\n",
    "ax = sns.scatterplot(y='ppr_mmo', x='pr_mmo', hue='label', data=df_final_ds, s=70)\n",
    "ax.set_xlabel('MMORPG Purchase Count', fontsize=20)\n",
    "ax.set_ylabel('% of Purchase in MMORPG', fontsize=20)\n",
    "plt.legend(title='player type', labels=['non-Nexon', 'Nexon'], fontsize=15)\n",
    "plt.show()"
   ]
  },
  {
   "cell_type": "code",
   "execution_count": 166,
   "metadata": {},
   "outputs": [
    {
     "data": {
      "text/html": [
       "<div>\n",
       "<style scoped>\n",
       "    .dataframe tbody tr th:only-of-type {\n",
       "        vertical-align: middle;\n",
       "    }\n",
       "\n",
       "    .dataframe tbody tr th {\n",
       "        vertical-align: top;\n",
       "    }\n",
       "\n",
       "    .dataframe thead th {\n",
       "        text-align: right;\n",
       "    }\n",
       "</style>\n",
       "<table border=\"1\" class=\"dataframe\">\n",
       "  <thead>\n",
       "    <tr style=\"text-align: right;\">\n",
       "      <th></th>\n",
       "      <th>pt_action</th>\n",
       "      <th>pt_fps</th>\n",
       "      <th>pt_mmo</th>\n",
       "      <th>pt_moba</th>\n",
       "      <th>pt_rts</th>\n",
       "      <th>pr_action</th>\n",
       "      <th>pr_fps</th>\n",
       "      <th>pr_mmo</th>\n",
       "      <th>pr_moba</th>\n",
       "      <th>pr_rts</th>\n",
       "      <th>...</th>\n",
       "      <th>ppt_mmo</th>\n",
       "      <th>ppt_moba</th>\n",
       "      <th>ppt_rts</th>\n",
       "      <th>ppr_action</th>\n",
       "      <th>ppr_fps</th>\n",
       "      <th>ppr_mmo</th>\n",
       "      <th>ppr_moba</th>\n",
       "      <th>ppr_rts</th>\n",
       "      <th>id</th>\n",
       "      <th>label</th>\n",
       "    </tr>\n",
       "  </thead>\n",
       "  <tbody>\n",
       "    <tr>\n",
       "      <th>2206</th>\n",
       "      <td>0.0</td>\n",
       "      <td>2.2</td>\n",
       "      <td>6.7</td>\n",
       "      <td>15.3</td>\n",
       "      <td>0.0</td>\n",
       "      <td>0.0</td>\n",
       "      <td>2.0</td>\n",
       "      <td>1.0</td>\n",
       "      <td>1.0</td>\n",
       "      <td>0.0</td>\n",
       "      <td>...</td>\n",
       "      <td>0.27686</td>\n",
       "      <td>0.632231</td>\n",
       "      <td>0.0</td>\n",
       "      <td>0.000000</td>\n",
       "      <td>0.500000</td>\n",
       "      <td>0.25</td>\n",
       "      <td>0.250000</td>\n",
       "      <td>0.0</td>\n",
       "      <td>149291366</td>\n",
       "      <td>0.0</td>\n",
       "    </tr>\n",
       "    <tr>\n",
       "      <th>9690</th>\n",
       "      <td>23.0</td>\n",
       "      <td>4.1</td>\n",
       "      <td>0.0</td>\n",
       "      <td>15.3</td>\n",
       "      <td>0.0</td>\n",
       "      <td>1.0</td>\n",
       "      <td>1.0</td>\n",
       "      <td>0.0</td>\n",
       "      <td>1.0</td>\n",
       "      <td>0.0</td>\n",
       "      <td>...</td>\n",
       "      <td>0.00000</td>\n",
       "      <td>0.360849</td>\n",
       "      <td>0.0</td>\n",
       "      <td>0.333333</td>\n",
       "      <td>0.333333</td>\n",
       "      <td>0.00</td>\n",
       "      <td>0.333333</td>\n",
       "      <td>0.0</td>\n",
       "      <td>57541240</td>\n",
       "      <td>0.0</td>\n",
       "    </tr>\n",
       "    <tr>\n",
       "      <th>7468</th>\n",
       "      <td>0.0</td>\n",
       "      <td>0.0</td>\n",
       "      <td>18.0</td>\n",
       "      <td>0.0</td>\n",
       "      <td>0.0</td>\n",
       "      <td>0.0</td>\n",
       "      <td>0.0</td>\n",
       "      <td>1.0</td>\n",
       "      <td>0.0</td>\n",
       "      <td>0.0</td>\n",
       "      <td>...</td>\n",
       "      <td>1.00000</td>\n",
       "      <td>0.000000</td>\n",
       "      <td>0.0</td>\n",
       "      <td>0.000000</td>\n",
       "      <td>0.000000</td>\n",
       "      <td>1.00</td>\n",
       "      <td>0.000000</td>\n",
       "      <td>0.0</td>\n",
       "      <td>260149777</td>\n",
       "      <td>0.0</td>\n",
       "    </tr>\n",
       "    <tr>\n",
       "      <th>10353</th>\n",
       "      <td>195.0</td>\n",
       "      <td>0.0</td>\n",
       "      <td>0.0</td>\n",
       "      <td>0.0</td>\n",
       "      <td>0.0</td>\n",
       "      <td>1.0</td>\n",
       "      <td>0.0</td>\n",
       "      <td>0.0</td>\n",
       "      <td>1.0</td>\n",
       "      <td>0.0</td>\n",
       "      <td>...</td>\n",
       "      <td>0.00000</td>\n",
       "      <td>0.000000</td>\n",
       "      <td>0.0</td>\n",
       "      <td>0.500000</td>\n",
       "      <td>0.000000</td>\n",
       "      <td>0.00</td>\n",
       "      <td>0.500000</td>\n",
       "      <td>0.0</td>\n",
       "      <td>75753011</td>\n",
       "      <td>0.0</td>\n",
       "    </tr>\n",
       "    <tr>\n",
       "      <th>4560</th>\n",
       "      <td>0.0</td>\n",
       "      <td>0.0</td>\n",
       "      <td>0.5</td>\n",
       "      <td>0.0</td>\n",
       "      <td>0.0</td>\n",
       "      <td>0.0</td>\n",
       "      <td>0.0</td>\n",
       "      <td>1.0</td>\n",
       "      <td>0.0</td>\n",
       "      <td>0.0</td>\n",
       "      <td>...</td>\n",
       "      <td>1.00000</td>\n",
       "      <td>0.000000</td>\n",
       "      <td>0.0</td>\n",
       "      <td>0.000000</td>\n",
       "      <td>0.000000</td>\n",
       "      <td>1.00</td>\n",
       "      <td>0.000000</td>\n",
       "      <td>0.0</td>\n",
       "      <td>192969933</td>\n",
       "      <td>0.0</td>\n",
       "    </tr>\n",
       "  </tbody>\n",
       "</table>\n",
       "<p>5 rows × 22 columns</p>\n",
       "</div>"
      ],
      "text/plain": [
       "       pt_action  pt_fps  pt_mmo  pt_moba  pt_rts  pr_action  pr_fps  pr_mmo  \\\n",
       "2206         0.0     2.2     6.7     15.3     0.0        0.0     2.0     1.0   \n",
       "9690        23.0     4.1     0.0     15.3     0.0        1.0     1.0     0.0   \n",
       "7468         0.0     0.0    18.0      0.0     0.0        0.0     0.0     1.0   \n",
       "10353      195.0     0.0     0.0      0.0     0.0        1.0     0.0     0.0   \n",
       "4560         0.0     0.0     0.5      0.0     0.0        0.0     0.0     1.0   \n",
       "\n",
       "       pr_moba  pr_rts  ...  ppt_mmo  ppt_moba  ppt_rts  ppr_action   ppr_fps  \\\n",
       "2206       1.0     0.0  ...  0.27686  0.632231      0.0    0.000000  0.500000   \n",
       "9690       1.0     0.0  ...  0.00000  0.360849      0.0    0.333333  0.333333   \n",
       "7468       0.0     0.0  ...  1.00000  0.000000      0.0    0.000000  0.000000   \n",
       "10353      1.0     0.0  ...  0.00000  0.000000      0.0    0.500000  0.000000   \n",
       "4560       0.0     0.0  ...  1.00000  0.000000      0.0    0.000000  0.000000   \n",
       "\n",
       "       ppr_mmo  ppr_moba  ppr_rts         id  label  \n",
       "2206      0.25  0.250000      0.0  149291366    0.0  \n",
       "9690      0.00  0.333333      0.0   57541240    0.0  \n",
       "7468      1.00  0.000000      0.0  260149777    0.0  \n",
       "10353     0.00  0.500000      0.0   75753011    0.0  \n",
       "4560      1.00  0.000000      0.0  192969933    0.0  \n",
       "\n",
       "[5 rows x 22 columns]"
      ]
     },
     "execution_count": 166,
     "metadata": {},
     "output_type": "execute_result"
    }
   ],
   "source": [
    "df_final_ds.head()"
   ]
  },
  {
   "cell_type": "code",
   "execution_count": null,
   "metadata": {},
   "outputs": [],
   "source": []
  }
 ],
 "metadata": {
  "kernelspec": {
   "display_name": "Python 3",
   "language": "python",
   "name": "python3"
  },
  "language_info": {
   "codemirror_mode": {
    "name": "ipython",
    "version": 3
   },
   "file_extension": ".py",
   "mimetype": "text/x-python",
   "name": "python",
   "nbconvert_exporter": "python",
   "pygments_lexer": "ipython3",
   "version": "3.8.1"
  }
 },
 "nbformat": 4,
 "nbformat_minor": 4
}
