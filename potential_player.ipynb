{
 "cells": [
  {
   "cell_type": "markdown",
   "metadata": {},
   "source": [
    "# Potential Player\n",
    "## Objective\n",
    "Identify users not playing any Nexon game, but have high likelihood of playing one of Nexon's game\n",
    "\n",
    "## Methodology\n",
    "Nexon has 3 games, each with its own player profile. We will try to identify players sharing similar profile, such as purchasing and gaming behavior.  \n",
    "The assumption is that if, for example, most MapleStory players only spend about 30 hours playing a week, it could mean that the nature of the game or the gaming community is suitable for people who can devote 30 hours a week playing game. Thus, people who do not spend around the same time are likely not suitable for MapleStory and therefore have less likelihood of playing MapleStory.  \n",
    "Here we will create user profile (features) and build binary classification model to see the likelihood of players for playing each Nexon game (MapltStory, Mabinogi, and Vindictus). Our target here are players who have high probability but had not play at Nexon game before.\n",
    "\n",
    "## Steps\n",
    "1. Label games with relevant genre to slim down number of available features\n",
    "2. feature genaration such as purchase genre Y, play time for genre X, % time playing genre X, # of games played, ...etc.\n",
    "3. model building\n",
    "\n",
    "## Brainstorm/Notes\n",
    "1. look into people who play low-res games (games with earlier published days) as they may have hardware limtations\n",
    "2. look into people who play exclusively MMORPG"
   ]
  },
  {
   "cell_type": "code",
   "execution_count": null,
   "metadata": {},
   "outputs": [],
   "source": []
  }
 ],
 "metadata": {
  "kernelspec": {
   "display_name": "Python 3",
   "language": "python",
   "name": "python3"
  },
  "language_info": {
   "codemirror_mode": {
    "name": "ipython",
    "version": 3
   },
   "file_extension": ".py",
   "mimetype": "text/x-python",
   "name": "python",
   "nbconvert_exporter": "python",
   "pygments_lexer": "ipython3",
   "version": "3.8.1"
  }
 },
 "nbformat": 4,
 "nbformat_minor": 4
}
