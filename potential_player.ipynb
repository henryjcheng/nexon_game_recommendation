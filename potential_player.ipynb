{
 "cells": [
  {
   "cell_type": "markdown",
   "metadata": {},
   "source": [
    "# Potential Player\n",
    "## Objective\n",
    "Identify users not playing any Nexon game, but have high likelihood of playing one of Nexon's game\n",
    "\n",
    "## Methodology\n",
    "Nexon has 3 games, each with its own player profile. We will try to identify players sharing similar profile, such as purchasing and gaming behavior.  \n",
    "The assumption is that if, for example, most MapleStory players only spend about 30 hours playing a week, it could mean that the nature of the game or the gaming community is suitable for people who can devote 30 hours a week playing game. Thus, people who do not spend around the same time are likely not suitable for MapleStory and therefore have less likelihood of playing MapleStory.  \n",
    "Here we will create user profile (features) and build binary classification model to see the likelihood of players for playing each Nexon game (MapltStory, Mabinogi, and Vindictus). Our target here are players who have high probability but had not play at Nexon game before.\n",
    "\n",
    "## Steps\n",
    "1. Label games with relevant genre to slim down number of available features\n",
    "2. feature genaration such as purchase genre Y, play time for genre X, % time playing genre X, # of games played, ...etc.\n",
    "3. model building\n",
    "\n",
    "## Brainstorm/Notes\n",
    "1. look into people who play low-res games (games with earlier published days) as they may have hardware limtations\n",
    "2. look into people who play exclusively MMORPG\n",
    "\n",
    "## Obsticles\n",
    "1. There's no timestamp for time information. \n",
    "    * Unable to distinguish between players who play lots of hours in short period of time vs one who plays moderate amount but over a long horizon.\n",
    "    * Unable to tell if certain game was played recently and if a player has moved onto to a different genre of games"
   ]
  },
  {
   "cell_type": "code",
   "execution_count": 1,
   "metadata": {},
   "outputs": [],
   "source": [
    "import pandas as pd\n",
    "import utility"
   ]
  },
  {
   "cell_type": "code",
   "execution_count": 2,
   "metadata": {},
   "outputs": [
    {
     "data": {
      "text/html": [
       "<div>\n",
       "<style scoped>\n",
       "    .dataframe tbody tr th:only-of-type {\n",
       "        vertical-align: middle;\n",
       "    }\n",
       "\n",
       "    .dataframe tbody tr th {\n",
       "        vertical-align: top;\n",
       "    }\n",
       "\n",
       "    .dataframe thead th {\n",
       "        text-align: right;\n",
       "    }\n",
       "</style>\n",
       "<table border=\"1\" class=\"dataframe\">\n",
       "  <thead>\n",
       "    <tr style=\"text-align: right;\">\n",
       "      <th></th>\n",
       "      <th>id</th>\n",
       "      <th>game</th>\n",
       "      <th>action</th>\n",
       "      <th>value</th>\n",
       "    </tr>\n",
       "  </thead>\n",
       "  <tbody>\n",
       "    <tr>\n",
       "      <th>0</th>\n",
       "      <td>151603712</td>\n",
       "      <td>The Elder Scrolls V Skyrim</td>\n",
       "      <td>purchase</td>\n",
       "      <td>1.0</td>\n",
       "    </tr>\n",
       "    <tr>\n",
       "      <th>1</th>\n",
       "      <td>151603712</td>\n",
       "      <td>The Elder Scrolls V Skyrim</td>\n",
       "      <td>play</td>\n",
       "      <td>273.0</td>\n",
       "    </tr>\n",
       "    <tr>\n",
       "      <th>2</th>\n",
       "      <td>151603712</td>\n",
       "      <td>Fallout 4</td>\n",
       "      <td>purchase</td>\n",
       "      <td>1.0</td>\n",
       "    </tr>\n",
       "  </tbody>\n",
       "</table>\n",
       "</div>"
      ],
      "text/plain": [
       "          id                        game    action  value\n",
       "0  151603712  The Elder Scrolls V Skyrim  purchase    1.0\n",
       "1  151603712  The Elder Scrolls V Skyrim      play  273.0\n",
       "2  151603712                   Fallout 4  purchase    1.0"
      ]
     },
     "execution_count": 2,
     "metadata": {},
     "output_type": "execute_result"
    }
   ],
   "source": [
    "# read data\n",
    "df = pd.read_csv('data/steam-200k.csv', header=None)\\\n",
    "       .rename(columns={0:'id', 1:'game', 2:'action', 3:'value'})\\\n",
    "       .iloc[:, :4] # drop last column\n",
    "df = df.drop_duplicates()\n",
    "df.head(3)"
   ]
  },
  {
   "cell_type": "markdown",
   "metadata": {},
   "source": [
    "## EDA Phase 1\n",
    "Getting familiar with dataset without any specific direction"
   ]
  },
  {
   "cell_type": "code",
   "execution_count": 3,
   "metadata": {},
   "outputs": [
    {
     "name": "stdout",
     "output_type": "stream",
     "text": [
      "Number of records:          199293\n",
      "Number of unique User ID:   12393\n",
      "Number of games:            5155\n",
      "\n",
      "\tAction Count: \n",
      "purchase    128804\n",
      "play         70489\n",
      "Name: action, dtype: int64\n",
      "\n",
      "Number of Purchasing Player: 11350\n",
      "% of Purchasing Player: 92.0%\n",
      "\n",
      "\tSummary Statistics on Play Time:\n",
      "count    70489.000000\n",
      "mean        48.878063\n",
      "std        229.335236\n",
      "min          0.100000\n",
      "25%          1.000000\n",
      "50%          4.500000\n",
      "75%         19.100000\n",
      "max      11754.000000\n",
      "Name: value, dtype: float64\n",
      "\n",
      "\tSummary Statistics on Number of Games Played:\n",
      "count    70477.000000\n",
      "mean        56.972388\n",
      "std         73.658005\n",
      "min          1.000000\n",
      "25%          8.000000\n",
      "50%         30.000000\n",
      "75%         78.000000\n",
      "max        498.000000\n",
      "Name: game_freq, dtype: float64\n",
      "\n",
      "\tSummary Statistics on Number of Games Purchase:\n",
      "count    128804.000000\n",
      "mean        132.569672\n",
      "std         182.063415\n",
      "min           1.000000\n",
      "25%          15.000000\n",
      "50%          61.000000\n",
      "75%         164.000000\n",
      "max        1068.000000\n",
      "Name: purch_freq, dtype: float64\n",
      "\n",
      "\tTop 10 Games Purchased\n",
      "Dota 2                             4841\n",
      "Team Fortress 2                    2323\n",
      "Unturned                           1563\n",
      "Counter-Strike Global Offensive    1412\n",
      "Half-Life 2 Lost Coast              981\n",
      "Counter-Strike Source               978\n",
      "Left 4 Dead 2                       951\n",
      "Counter-Strike                      856\n",
      "Warframe                            847\n",
      "Half-Life 2 Deathmatch              823\n",
      "Name: game, dtype: int64\n"
     ]
    }
   ],
   "source": [
    "# actual EDA code are in utility.py\n",
    "# calling eda_phase1 function here to make notebook more readable\n",
    "utility.eda_phase1(df)"
   ]
  },
  {
   "cell_type": "code",
   "execution_count": null,
   "metadata": {},
   "outputs": [],
   "source": []
  }
 ],
 "metadata": {
  "kernelspec": {
   "display_name": "Python 3",
   "language": "python",
   "name": "python3"
  },
  "language_info": {
   "codemirror_mode": {
    "name": "ipython",
    "version": 3
   },
   "file_extension": ".py",
   "mimetype": "text/x-python",
   "name": "python",
   "nbconvert_exporter": "python",
   "pygments_lexer": "ipython3",
   "version": "3.8.1"
  }
 },
 "nbformat": 4,
 "nbformat_minor": 4
}
